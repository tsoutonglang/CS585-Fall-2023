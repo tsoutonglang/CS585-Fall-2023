{
 "cells": [
  {
   "cell_type": "markdown",
   "id": "b5ad4a79",
   "metadata": {},
   "source": [
    "# CS 585 - Homework 5\n",
    "\n",
    "Tania Soutonglang A20439949"
   ]
  },
  {
   "cell_type": "markdown",
   "id": "e45a4f1e",
   "metadata": {},
   "source": [
    "# Problem 1 – Applying a Context free Grammar\n",
    "(15pts – Answer in Blackboard)\n",
    "\n",
    "Section 9.2.3 in Eisenstein-NLP (pp213-218) describes a fragment of the Penn Treebank grammar. Note\n",
    "that this grammar fragment uses Penn Treebank Part-of-Speech (POS) tags in production rules. For\n",
    "example, the symbols NN, NNS, NNP and PRP in rule \"NP→NN |NNS |NNP |PRP\" are POS tags.\n",
    "\n",
    "- Using section 9.2.3 as a reference, produce a syntactic parse of these sentences:\n",
    "  a) \"Lucy plays with friends\"\n",
    "  b) \"This movie is careless and unfocused\" (This sentence is from the Stanford Sentiment Treebank)\n",
    "  c) Two possible parses for the sentence \"She buys a gift with gold\"\n",
    "- You do not need to include punctuation, which is not covered in section 9.2.3.\n",
    "- Write your output using labeled nested parenthesis format of \"(\\<label> \\<child-1> \\<child-2> ...)\". So, for example, the sentences \"Pete cooks with onions\" would be represented as:\n",
    "\n",
    "(S (NP (NNP Pete)) (VP (VBZ cooks) (PP (IN with) (NP (NNS onions)))))\n",
    "\n",
    "Or with line breaks and indention as:\n",
    "<br>&emsp;(S (NP (NNP Pete))\n",
    "<br>&emsp;&emsp;(VP (VBZ cooks)\n",
    "<br>&emsp;&emsp;&emsp;(PP (IN with) (NP (NNS onions)))))\n",
    "\n",
    "Note that in this example, NNP, VBZ, IN and NNS are POS tags in the Penn Treebank tagset.\n",
    "\n",
    "- To complete this problem, you only need to submit four parses in parenthesis format. You do not need to submit drawings of parse trees or explanations of your answers. Submit your typed answers on Blackboard. "
   ]
  },
  {
   "cell_type": "code",
   "execution_count": null,
   "id": "64ede58a",
   "metadata": {},
   "outputs": [],
   "source": []
  },
  {
   "cell_type": "markdown",
   "id": "1a745e1f",
   "metadata": {},
   "source": [
    "## Problem 2 – Constituency parsing\n",
    "\n",
    "In this problem, you will use the Stanza Constituency parser to check your work from Problem 1. Note that by default, Stanza uses the Penn Treebank model for the English language.\n",
    "- Check your work for Problem 1 by applying the Stanza constituency parser to the three sentences of Problem 1."
   ]
  },
  {
   "cell_type": "code",
   "execution_count": null,
   "id": "7b8b4796",
   "metadata": {},
   "outputs": [],
   "source": []
  },
  {
   "cell_type": "markdown",
   "id": "898b97fa",
   "metadata": {},
   "source": [
    "- Show your output in your notebook. Your output should show a sentence parse with constituent labels for each of these three sentences"
   ]
  },
  {
   "cell_type": "code",
   "execution_count": null,
   "id": "d1095e9e",
   "metadata": {},
   "outputs": [],
   "source": []
  },
  {
   "cell_type": "markdown",
   "id": "db27b935",
   "metadata": {},
   "source": [
    "- You may go back to Problem 1 and revise your answers if you made mistakes, but you should first try the problems by hand, to become familiar with CFG production rules as used in NLP."
   ]
  },
  {
   "cell_type": "code",
   "execution_count": null,
   "id": "551706f4",
   "metadata": {},
   "outputs": [],
   "source": []
  },
  {
   "cell_type": "markdown",
   "id": "95bb0cc7",
   "metadata": {},
   "source": [
    "- Note that the Stanza parser outputs one parse for 1(c), \"She buys a gift with gold\". You will need to identify the other possible parse for this ambiguous sentence in Problem 1"
   ]
  },
  {
   "cell_type": "code",
   "execution_count": null,
   "id": "6470f781",
   "metadata": {},
   "outputs": [],
   "source": []
  }
 ],
 "metadata": {
  "kernelspec": {
   "display_name": "Python 3 (ipykernel)",
   "language": "python",
   "name": "python3"
  },
  "language_info": {
   "codemirror_mode": {
    "name": "ipython",
    "version": 3
   },
   "file_extension": ".py",
   "mimetype": "text/x-python",
   "name": "python",
   "nbconvert_exporter": "python",
   "pygments_lexer": "ipython3",
   "version": "3.11.5"
  }
 },
 "nbformat": 4,
 "nbformat_minor": 5
}
